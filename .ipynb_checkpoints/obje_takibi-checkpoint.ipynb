{
 "cells": [
  {
   "cell_type": "code",
   "execution_count": 1,
   "id": "8c3ec6a7-6137-4cf5-9cdb-c2adafb663a6",
   "metadata": {},
   "outputs": [],
   "source": [
    "import cv2\n",
    "import time\n",
    "import mediapipe as mp"
   ]
  },
  {
   "cell_type": "code",
   "execution_count": null,
   "id": "129adb72-a326-473d-9ffb-243de72daf12",
   "metadata": {},
   "outputs": [],
   "source": [
    "capture= cv2.VideoCapture(0) #bilgisayarın kendi kamerasından açılacağı için 0 yaptık\n",
    "#başka bir kamera kullanacak olsaydık 1 veya 2 de yazabilirdik."
   ]
  },
  {
   "cell_type": "code",
   "execution_count": null,
   "id": "66c197bb-ea70-4f77-8975-441f113d5f08",
   "metadata": {},
   "outputs": [],
   "source": [
    "width=int(capture.get(cv2.CAP_PROP_FRAME_WIDTH))\n",
    "height=int(capture.get(cv2.CAP_PROP_FRAME_HEIGHT))\n",
    "\n",
    "print(width)\n",
    "print(height)"
   ]
  },
  {
   "cell_type": "code",
   "execution_count": null,
   "id": "fc4aa297-2071-42d7-88b2-1c17acc2b176",
   "metadata": {},
   "outputs": [],
   "source": []
  }
 ],
 "metadata": {
  "kernelspec": {
   "display_name": "Python 3 (ipykernel)",
   "language": "python",
   "name": "python3"
  },
  "language_info": {
   "codemirror_mode": {
    "name": "ipython",
    "version": 3
   },
   "file_extension": ".py",
   "mimetype": "text/x-python",
   "name": "python",
   "nbconvert_exporter": "python",
   "pygments_lexer": "ipython3",
   "version": "3.10.10"
  }
 },
 "nbformat": 4,
 "nbformat_minor": 5
}
