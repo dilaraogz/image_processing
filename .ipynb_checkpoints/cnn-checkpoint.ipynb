{
 "cells": [
  {
   "cell_type": "code",
   "execution_count": 2,
   "id": "8fdad148-21e8-4773-a187-8874723cf490",
   "metadata": {},
   "outputs": [
    {
     "name": "stdout",
     "output_type": "stream",
     "text": [
      "Name: tensorflow\n",
      "Version: 2.12.0\n",
      "Summary: TensorFlow is an open source machine learning framework for everyone.\n",
      "Home-page: https://www.tensorflow.org/\n",
      "Author: Google Inc.\n",
      "Author-email: packages@tensorflow.org\n",
      "License: Apache 2.0\n",
      "Location: c:\\users\\90543\\appdata\\local\\programs\\python\\python310\\lib\\site-packages\n",
      "Requires: tensorflow-intel\n",
      "Required-by: \n"
     ]
    }
   ],
   "source": [
    "!pip show tensorflow\n"
   ]
  },
  {
   "cell_type": "code",
   "execution_count": 1,
   "id": "faae302c-f5d3-452f-bae5-115d93205af0",
   "metadata": {},
   "outputs": [
    {
     "ename": "ModuleNotFoundError",
     "evalue": "No module named 'tensorflow'",
     "output_type": "error",
     "traceback": [
      "\u001b[1;31m---------------------------------------------------------------------------\u001b[0m",
      "\u001b[1;31mModuleNotFoundError\u001b[0m                       Traceback (most recent call last)",
      "Cell \u001b[1;32mIn[1], line 1\u001b[0m\n\u001b[1;32m----> 1\u001b[0m \u001b[38;5;28;01mimport\u001b[39;00m \u001b[38;5;21;01mtensorflow\u001b[39;00m\u001b[38;5;21;01m.\u001b[39;00m\u001b[38;5;21;01mkeras\u001b[39;00m \u001b[38;5;28;01mas\u001b[39;00m \u001b[38;5;21;01mkeras\u001b[39;00m\n\u001b[0;32m      2\u001b[0m \u001b[38;5;28;01mfrom\u001b[39;00m \u001b[38;5;21;01mtensorflow\u001b[39;00m\u001b[38;5;21;01m.\u001b[39;00m\u001b[38;5;21;01mkeras\u001b[39;00m\u001b[38;5;21;01m.\u001b[39;00m\u001b[38;5;21;01mdatasets\u001b[39;00m \u001b[38;5;28;01mimport\u001b[39;00m cifar10 \u001b[38;5;66;03m#veri kümesi\u001b[39;00m\n\u001b[0;32m      4\u001b[0m \u001b[38;5;28;01mfrom\u001b[39;00m \u001b[38;5;21;01msklearn\u001b[39;00m\u001b[38;5;21;01m.\u001b[39;00m\u001b[38;5;21;01mmodel_selection\u001b[39;00m \u001b[38;5;28;01mimport\u001b[39;00m train_test_split \u001b[38;5;66;03m#veri kümesini böler\u001b[39;00m\n",
      "\u001b[1;31mModuleNotFoundError\u001b[0m: No module named 'tensorflow'"
     ]
    }
   ],
   "source": [
    "import tensorflow.keras as keras\n",
    "from tensorflow.keras.datasets import cifar10 #veri kümesi\n",
    "\n",
    "from sklearn.model_selection import train_test_split #veri kümesini böler\n",
    "from tensorflow.keras.models import Sequential #yapay sinir ağı modeli\n",
    "#giriş katmanından başlayarak sıralı olarak birbirini takip eden katmanlar eklenir ve çıktı katmanına kadar devam eder\n",
    "\n",
    "from tensorflow.keras.layers import Conv2D #2 boyutlu veriler üzerinde evrişim işlemi gerçekleştirir\n",
    "from tensorflow.keras.layers import MaxPooling2D #önemli özellikleri korumak için kullanılır\n",
    "from tensorflow.keras.layers import Flatten #tek boyutlu veriye dönüştürür\n",
    "from tensorflow.keras.layers import Dense #full connected bağlantıları temsil edilir\n",
    "\n",
    "#çıktı aktivasyon fonksiyonumuz. (sigmoid,softmax vb.)\n",
    "\n",
    "import matplotlib.pyplot as plt\n",
    "import numpy as np"
   ]
  },
  {
   "cell_type": "code",
   "execution_count": null,
   "id": "7d94b4c6-2945-47e3-9583-0b3da05e88db",
   "metadata": {},
   "outputs": [],
   "source": [
    "# CIFAR-10 veri kümesini okuma\n",
    "\n",
    "(x_train,y_train),(x_test,y_test)=cifar10.load_data()"
   ]
  },
  {
   "cell_type": "code",
   "execution_count": null,
   "id": "33420cfc-f1ab-4462-8c6f-c109b16d0d74",
   "metadata": {},
   "outputs": [],
   "source": [
    "len(x_train)"
   ]
  },
  {
   "cell_type": "code",
   "execution_count": 4,
   "id": "1cce21b2-cb4a-40dd-8e3c-38ceb19ecc76",
   "metadata": {},
   "outputs": [
    {
     "ename": "NameError",
     "evalue": "name 'x_train' is not defined",
     "output_type": "error",
     "traceback": [
      "\u001b[1;31m---------------------------------------------------------------------------\u001b[0m",
      "\u001b[1;31mNameError\u001b[0m                                 Traceback (most recent call last)",
      "Cell \u001b[1;32mIn[4], line 1\u001b[0m\n\u001b[1;32m----> 1\u001b[0m \u001b[43mx_train\u001b[49m\u001b[38;5;241m.\u001b[39mshape\n",
      "\u001b[1;31mNameError\u001b[0m: name 'x_train' is not defined"
     ]
    }
   ],
   "source": [
    "x_train.shape"
   ]
  },
  {
   "cell_type": "code",
   "execution_count": null,
   "id": "91a55a92-1366-43d4-913a-c57c5bcfa634",
   "metadata": {},
   "outputs": [],
   "source": [
    "x_train[0]"
   ]
  },
  {
   "cell_type": "code",
   "execution_count": null,
   "id": "f1f29311-9ed7-4c68-b5a4-60dfb5f32753",
   "metadata": {},
   "outputs": [],
   "source": [
    "len(y_train)"
   ]
  },
  {
   "cell_type": "code",
   "execution_count": null,
   "id": "14b55159-5108-4abc-b744-3c910054200c",
   "metadata": {},
   "outputs": [],
   "source": [
    "\n",
    "y_train[0]"
   ]
  },
  {
   "cell_type": "code",
   "execution_count": null,
   "id": "1ac2a7c9-d91d-4eae-bff3-6d6327212bb6",
   "metadata": {},
   "outputs": [],
   "source": [
    "y_train[5]"
   ]
  },
  {
   "cell_type": "code",
   "execution_count": null,
   "id": "9b20478e-05a6-4eda-9e96-0b50b0b03559",
   "metadata": {},
   "outputs": [],
   "source": [
    "len(x_test)"
   ]
  },
  {
   "cell_type": "code",
   "execution_count": null,
   "id": "fd8b218d-5221-4e3b-bcb3-61968ed78bc7",
   "metadata": {},
   "outputs": [],
   "source": [
    "x_test[0]"
   ]
  },
  {
   "cell_type": "code",
   "execution_count": null,
   "id": "31d70648-c7eb-4feb-9a65-0a6711cd6a25",
   "metadata": {},
   "outputs": [],
   "source": [
    "len(y_test)"
   ]
  },
  {
   "cell_type": "code",
   "execution_count": null,
   "id": "38752dd8-b948-4e57-a366-5f98055437f7",
   "metadata": {},
   "outputs": [],
   "source": [
    "y_test[0]"
   ]
  },
  {
   "cell_type": "code",
   "execution_count": null,
   "id": "a84dd55c-446e-4445-ac66-2d781be3d68a",
   "metadata": {},
   "outputs": [],
   "source": [
    "y_train[0]"
   ]
  },
  {
   "cell_type": "code",
   "execution_count": null,
   "id": "e8bbba46-27da-4ec1-ae4e-78e4a18b81a2",
   "metadata": {},
   "outputs": [],
   "source": [
    "#veri setinden örnek resim gösterme\n",
    "\n",
    "for i in range(5):\n",
    "    plt.imshow(x_test[i])\n",
    "    plt.title(\"Sınıf: \"+str(y_test[i][0]))\n",
    "    plt.axis(\"off\")\n",
    "    plt.show()"
   ]
  },
  {
   "cell_type": "code",
   "execution_count": null,
   "id": "f283bfd6-ccd7-4c73-8f8d-ded89a6cfc61",
   "metadata": {},
   "outputs": [],
   "source": [
    "#eğitim ve test verilerinin birleştirilmesi\n",
    "\n",
    "x_data=np.concatenate((x_train,x_test),axis=0)\n",
    "y_data=np.concatenate((y_train,y_test),axis=0)"
   ]
  },
  {
   "cell_type": "code",
   "execution_count": null,
   "id": "0bffc301-bd5e-4c58-b670-b7cb8dbda59b",
   "metadata": {},
   "outputs": [],
   "source": [
    "\n",
    "len(x_data)"
   ]
  },
  {
   "cell_type": "code",
   "execution_count": null,
   "id": "0795a9e5-ed7d-4b6c-9399-16c580e80bfd",
   "metadata": {},
   "outputs": [],
   "source": [
    "len(y_data)"
   ]
  },
  {
   "cell_type": "code",
   "execution_count": null,
   "id": "b395f826-7d7d-47a2-870e-c90c8fad6f0e",
   "metadata": {},
   "outputs": [],
   "source": [
    "x_data[100]"
   ]
  },
  {
   "cell_type": "code",
   "execution_count": null,
   "id": "0826342e-6e7a-4e79-8186-34ccce054897",
   "metadata": {},
   "outputs": [],
   "source": [
    "y_data[100]"
   ]
  },
  {
   "cell_type": "code",
   "execution_count": null,
   "id": "7d29c1ab-d1b2-4faa-961d-0dddd87cca29",
   "metadata": {},
   "outputs": [],
   "source": [
    "#eğitim ve test verisi olarak bölme\n",
    "\n",
    "x_train,x_test,y_train,y_test= train_test_split(x_data,y_data,test_size=0.2,random_state=42)"
   ]
  },
  {
   "cell_type": "code",
   "execution_count": null,
   "id": "0be2dff9-7817-450c-9154-a62b32f6a9e7",
   "metadata": {},
   "outputs": [],
   "source": [
    "len(x_train)"
   ]
  },
  {
   "cell_type": "code",
   "execution_count": null,
   "id": "999bf1bf-9d15-44d8-855d-41313bdffc0a",
   "metadata": {},
   "outputs": [],
   "source": [
    "len(y_train)"
   ]
  },
  {
   "cell_type": "code",
   "execution_count": null,
   "id": "df95ee31-b754-4c5d-88c7-329a45198ddd",
   "metadata": {},
   "outputs": [],
   "source": [
    "\n",
    "x_train[0]"
   ]
  },
  {
   "cell_type": "code",
   "execution_count": null,
   "id": "439026f9-76bd-485f-94ea-c53e64a77ac5",
   "metadata": {},
   "outputs": [],
   "source": [
    "y_train[0]"
   ]
  },
  {
   "cell_type": "code",
   "execution_count": null,
   "id": "adf7fa01-a0c0-439e-8e87-a7a45380e9ea",
   "metadata": {},
   "outputs": [],
   "source": [
    "60000*0.8"
   ]
  },
  {
   "cell_type": "code",
   "execution_count": null,
   "id": "d116ea47-720e-4908-898c-f89c010b3e1b",
   "metadata": {},
   "outputs": [],
   "source": [
    "len(x_test)"
   ]
  },
  {
   "cell_type": "code",
   "execution_count": null,
   "id": "5a5ae53a-0acc-4544-b6b5-bce106af5a5d",
   "metadata": {},
   "outputs": [],
   "source": [
    "len(y_test)"
   ]
  },
  {
   "cell_type": "code",
   "execution_count": null,
   "id": "c8b237fb-2837-4845-bdb8-4b30b85842b1",
   "metadata": {},
   "outputs": [],
   "source": [
    "# verilerin 0-1 arasında normalize edilmesi\n",
    "\n",
    "x_train=x_train.astype('float32')/255.0\n",
    "x_test=x_test.astype('float32')/255.0"
   ]
  },
  {
   "cell_type": "code",
   "execution_count": null,
   "id": "8d9bb430-e4b2-4388-8dd1-b10795bb4b76",
   "metadata": {},
   "outputs": [],
   "source": [
    "x_train[100]"
   ]
  },
  {
   "cell_type": "code",
   "execution_count": null,
   "id": "cf8371bb-bc4d-4d50-9ad7-e7bf21f10531",
   "metadata": {},
   "outputs": [],
   "source": [
    "num_classes=10\n",
    "y_train=keras.utils.to_categorical(y_train,num_classes)\n",
    "y_test=keras.utils.to_categorical(y_test,num_classes)"
   ]
  },
  {
   "cell_type": "code",
   "execution_count": null,
   "id": "c37dacb7-7296-4241-9779-10e29169086e",
   "metadata": {},
   "outputs": [],
   "source": [
    "y_train[0]  #doğru etiketi 1 yapıyor, diğerlerini 0 yapıyor"
   ]
  },
  {
   "cell_type": "code",
   "execution_count": null,
   "id": "ebffbf2e-bc25-4c7d-83f3-59810c5edfd0",
   "metadata": {},
   "outputs": [],
   "source": [
    "x_train.shape[1:]"
   ]
  },
  {
   "cell_type": "code",
   "execution_count": null,
   "id": "54b18308-1055-4907-af9f-ea67e4c8d0ec",
   "metadata": {},
   "outputs": [],
   "source": [
    "\n",
    "x_train[0].shape"
   ]
  },
  {
   "cell_type": "code",
   "execution_count": null,
   "id": "b4454610-ddb1-4f7e-a11e-ea13d04467a3",
   "metadata": {},
   "outputs": [],
   "source": [
    "# CNN MODEL\n",
    "\n",
    "model=Sequential()\n",
    "\n",
    "model.add(Conv2D(32,(3,3),activation=\"relu\",padding=\"same\",input_shape=x_train.shape[1:])) #3x3 lük filtre uygular\n",
    "#relu: negatif değerleri 0 yapar, pozitif kısımları korur\n",
    "#padding: çıktı boyutunun giriş boyutuna benzerliği sağlar\n",
    "\n",
    "#giriş kanal sayısı:3\n",
    "#çıkış kanal sayısı:3\n",
    "#her bir filtre için toplam parametre sayısı: 3x3x3 + 1 (bias)=28\n",
    "\n",
    "model.add(Conv2D(32,(3,3),activation=\"relu\"))\n",
    "\n",
    "#filtre: 3x3\n",
    "#giriş kanal sayısı:32\n",
    "#çıkış kanal sayısı:32\n",
    "#her bir filtre için toplam parametre sayısı: (3x3x32) + 1 (bias)=289\n",
    "#genel toplam paremetre: 289x32 = 9248\n",
    "\n",
    "model.add(MaxPooling2D(pool_size=(2,2))) #belirli bir bölgedeki en büyük değeri alır\n",
    "\n",
    "model.add(Conv2D(64,(3,3),activation=\"relu\",padding=\"same\"))\n",
    "model.add(Conv2D(64,(3,3),activation=\"relu\"))\n",
    "\n",
    "model.add(MaxPooling2D(pool_size=(2,2)))\n",
    "\n",
    "model.add(Flatten())\n",
    "\n",
    "model.add(Dense(512,activation=\"relu\"))\n",
    "model.add(Dense(num_classes,activation=\"softmax\")) #softmax ile elemanların olasılık değerlerini döndürür"
   ]
  },
  {
   "cell_type": "code",
   "execution_count": null,
   "id": "59c777c0-fa1c-4b09-a8a7-9cde61f6dd31",
   "metadata": {},
   "outputs": [],
   "source": [
    "#modelin derlenmesi\n",
    "\n",
    "model.compile(loss='categorical_crossentropy', optimizer=\"adam\", metrics=[\"accuracy\"])"
   ]
  },
  {
   "cell_type": "code",
   "execution_count": null,
   "id": "071e02e6-17cf-43cd-aee3-b5cf199b173e",
   "metadata": {},
   "outputs": [],
   "source": [
    "model.summary()"
   ]
  },
  {
   "cell_type": "code",
   "execution_count": null,
   "id": "f4396263-583a-4df8-8571-9914564caf70",
   "metadata": {},
   "outputs": [],
   "source": [
    "6*6*64"
   ]
  },
  {
   "cell_type": "code",
   "execution_count": null,
   "id": "75e54393-2247-4986-bef4-2bbd7644c7b7",
   "metadata": {},
   "outputs": [],
   "source": [
    "len(x_train)/128"
   ]
  },
  {
   "cell_type": "code",
   "execution_count": null,
   "id": "36d168ba-1b43-4775-a2ec-f6dff5a7a9df",
   "metadata": {},
   "outputs": [],
   "source": [
    "#modeli eğitme \n",
    "\n",
    "batch_size=128\n",
    "epochs=10\n",
    "model.fit(x_train,y_train,batch_size=batch_size,epochs=epochs,validation_data=(x_test,y_test))"
   ]
  },
  {
   "cell_type": "code",
   "execution_count": null,
   "id": "991ec8f4-966a-4f4d-a2a5-f19808ff5f43",
   "metadata": {},
   "outputs": [],
   "source": [
    "scores=model.evaluate(x_test,y_test,verbose=1)\n",
    "print(\"test loss: \",scores[0])\n",
    "print(\"test accuracy: \",scores[1])"
   ]
  }
 ],
 "metadata": {
  "kernelspec": {
   "display_name": "Python 3 (ipykernel)",
   "language": "python",
   "name": "python3"
  },
  "language_info": {
   "codemirror_mode": {
    "name": "ipython",
    "version": 3
   },
   "file_extension": ".py",
   "mimetype": "text/x-python",
   "name": "python",
   "nbconvert_exporter": "python",
   "pygments_lexer": "ipython3",
   "version": "3.10.10"
  }
 },
 "nbformat": 4,
 "nbformat_minor": 5
}
